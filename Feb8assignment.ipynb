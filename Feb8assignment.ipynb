{
 "cells": [
  {
   "cell_type": "markdown",
   "id": "87a722cf-8d3e-48c8-8170-5d2b20c6a192",
   "metadata": {},
   "source": [
    "Q1. What is Abstraction in OOps? Explain with an example."
   ]
  },
  {
   "cell_type": "markdown",
   "id": "9d55a645-f358-45d4-b5d2-0961aee9c02e",
   "metadata": {},
   "source": [
    " Ans) Abstraction refers to the concept of simplifying complex systems by breaking them down into smaller, more manageable parts. In OOP, abstraction allows you to focus on the essential features and behavior of an object or class, while hiding unnecessary implementation details."
   ]
  },
  {
   "cell_type": "code",
   "execution_count": 3,
   "id": "41a270f9-51dc-4f2e-bba4-4c26b6e672d6",
   "metadata": {},
   "outputs": [
    {
     "name": "stdout",
     "output_type": "stream",
     "text": [
      "Circle area: 78.5\n",
      "Rectangle area: 24\n"
     ]
    }
   ],
   "source": [
    "import abc\n",
    "\n",
    "class Shape():\n",
    "    @abc.abstractmethod\n",
    "    def calculate_area(self):\n",
    "        pass\n",
    "\n",
    "class Circle(Shape):\n",
    "    def __init__(self, radius):\n",
    "        self.radius = radius\n",
    "\n",
    "    def calculate_area(self):\n",
    "        return 3.14 * self.radius * self.radius\n",
    "\n",
    "class Rectangle(Shape):\n",
    "    def __init__(self, length, width):\n",
    "        self.length = length\n",
    "        self.width = width\n",
    "\n",
    "    def calculate_area(self):\n",
    "        return self.length * self.width\n",
    "\n",
    "# Usage\n",
    "circle = Circle(5)\n",
    "circle_area = circle.calculate_area()\n",
    "print(\"Circle area:\", circle_area)\n",
    "\n",
    "rectangle = Rectangle(4, 6)\n",
    "rectangle_area = rectangle.calculate_area()\n",
    "print(\"Rectangle area:\", rectangle_area)\n"
   ]
  },
  {
   "cell_type": "markdown",
   "id": "cb67fada-37f6-4abc-bc3b-1ee0386813ca",
   "metadata": {},
   "source": [
    "Q2. Differentiate between Abstraction and Encapsulation. Explain with an example.\n",
    "Ans)\n",
    "* Abstraction:\n",
    "    1. Abstraction focuses on hiding unnecessary implementation details and exposing only essential features and behavior to the outside world.\n",
    "    2. It involves creating abstract classes or interfaces that define the common structure and behavior for a group of related objects.\n",
    "* Encapsulation:\n",
    "\n",
    "    1. Encapsulation is about bundling data and methods that operate on that data into a single unit called a class.\n",
    "    2. It focuses on hiding the internal state and implementation details of an object and provides controlled access to that object through public      interfaces (methods)."
   ]
  },
  {
   "cell_type": "code",
   "execution_count": 5,
   "id": "8ca60e74-a095-44f8-96c0-d9ca34629b9e",
   "metadata": {},
   "outputs": [
    {
     "name": "stdout",
     "output_type": "stream",
     "text": [
      "Woof!\n",
      "Meow!\n"
     ]
    }
   ],
   "source": [
    "#example of abstraction\n",
    "import abc\n",
    "\n",
    "class Animal():\n",
    "    @abc.abstractmethod\n",
    "    def make_sound(self):\n",
    "        pass\n",
    "\n",
    "class Dog(Animal):\n",
    "    def make_sound(self):\n",
    "        print(\"Woof!\")\n",
    "\n",
    "class Cat(Animal):\n",
    "    def make_sound(self):\n",
    "        print(\"Meow!\")\n",
    "\n",
    "# Usage\n",
    "dog = Dog()\n",
    "dog.make_sound()  \n",
    "\n",
    "cat = Cat()\n",
    "cat.make_sound()  \n"
   ]
  },
  {
   "cell_type": "code",
   "execution_count": 7,
   "id": "c6b60c4c-438b-48c7-8d64-2b64c989b6d4",
   "metadata": {},
   "outputs": [
    {
     "data": {
      "text/plain": [
       "6000"
      ]
     },
     "execution_count": 7,
     "metadata": {},
     "output_type": "execute_result"
    }
   ],
   "source": [
    "#example of encapsulation\n",
    "class bank_account:\n",
    "    \n",
    "    def __init__(self,balance):\n",
    "        self.__balance = balance\n",
    "    \n",
    "    def deposit(self,amount):\n",
    "        self.__balance = self.__balance + amount\n",
    "    \n",
    "    def withdraw(self,amount):\n",
    "        if self.__balance >= amount:\n",
    "            self.__balance = self.__balance - amount\n",
    "            return True\n",
    "        else:\n",
    "            return False\n",
    "    \n",
    "    def get_balance(self):\n",
    "        return self.__balance\n",
    "\n",
    "alex = bank_account(1000)\n",
    "alex.deposit(5000)\n",
    "alex.get_balance()"
   ]
  },
  {
   "cell_type": "markdown",
   "id": "9e580cc3-cc75-4d57-8efe-f823b33bb5bd",
   "metadata": {},
   "source": [
    "Q3. What is abc module in python? Why is it used?\n"
   ]
  },
  {
   "cell_type": "markdown",
   "id": "45ae7c95-11f8-4aca-bf09-cce32bfc13fe",
   "metadata": {},
   "source": [
    "Ans)The abc module in Python stands for Abstract Base Classes. It provides the infrastructure for defining abstract base classes (ABCs) in Python. An abstract base class is a class that cannot be instantiated and is meant to be subclassed by other classes. It defines a common interface that its subclasses must implement.\n",
    "\n",
    "The abc module is used to create abstract base classes and define abstract methods. "
   ]
  },
  {
   "cell_type": "markdown",
   "id": "b526f757-5576-4c0f-a8d8-778f078ea979",
   "metadata": {},
   "source": [
    "Q4. How can we achieve data abstraction?Ans)In Python, we can achieve data abstraction through the use of abstract classes, abstract methods, and encapsulation"
   ]
  },
  {
   "cell_type": "markdown",
   "id": "7738f294-8ced-4319-b609-4389c877df23",
   "metadata": {},
   "source": [
    "Ans)In Python, we can achieve data abstraction through the use of abstract classes, abstract methods, and encapsulation"
   ]
  },
  {
   "cell_type": "markdown",
   "id": "2c46e801-5f65-4a16-a4df-fe7683cd0da0",
   "metadata": {},
   "source": [
    "Q5. Can we create an instance of an abstract class? Explain your answer."
   ]
  },
  {
   "cell_type": "markdown",
   "id": "dfecdd14-0975-4a80-a35b-db8ec29de32a",
   "metadata": {},
   "source": [
    "Ans)No, we cannot create an instance of an abstract class in Python. Abstract classes are meant to serve as blueprints for other classes and cannot be instantiated directly."
   ]
  },
  {
   "cell_type": "code",
   "execution_count": null,
   "id": "5506ba19-2ce2-4cfc-95b8-73e06375621b",
   "metadata": {},
   "outputs": [],
   "source": []
  }
 ],
 "metadata": {
  "kernelspec": {
   "display_name": "Python 3 (ipykernel)",
   "language": "python",
   "name": "python3"
  },
  "language_info": {
   "codemirror_mode": {
    "name": "ipython",
    "version": 3
   },
   "file_extension": ".py",
   "mimetype": "text/x-python",
   "name": "python",
   "nbconvert_exporter": "python",
   "pygments_lexer": "ipython3",
   "version": "3.10.8"
  }
 },
 "nbformat": 4,
 "nbformat_minor": 5
}
